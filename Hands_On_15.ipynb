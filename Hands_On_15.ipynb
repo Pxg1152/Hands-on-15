{
  "nbformat": 4,
  "nbformat_minor": 0,
  "metadata": {
    "colab": {
      "provenance": []
    },
    "kernelspec": {
      "name": "python3",
      "display_name": "Python 3"
    },
    "language_info": {
      "name": "python"
    }
  },
  "cells": [
    {
      "cell_type": "markdown",
      "source": [
        "Dijkstra's Algorithm:"
      ],
      "metadata": {
        "id": "QkM32BZ-kxM1"
      }
    },
    {
      "cell_type": "code",
      "source": [
        "import heapq\n",
        "\n",
        "def dijkstra(graph, start):\n",
        "    distances = {vertex: float('infinity') for vertex in graph}\n",
        "    distances[start] = 0\n",
        "    priority_queue = [(0, start)]\n",
        "\n",
        "    while priority_queue:\n",
        "        current_distance, current_vertex = heapq.heappop(priority_queue)\n",
        "\n",
        "        if current_distance > distances[current_vertex]:\n",
        "            continue\n",
        "\n",
        "        for neighbor, weight in graph[current_vertex].items():\n",
        "            distance = current_distance + weight\n",
        "\n",
        "            if distance < distances[neighbor]:\n",
        "                distances[neighbor] = distance\n",
        "                heapq.heappush(priority_queue, (distance, neighbor))\n",
        "\n",
        "    return distances\n",
        "\n",
        "# Example usage:\n",
        "graph = {\n",
        "    'A': {'B': 1, 'C': 4},\n",
        "    'B': {'A': 1, 'C': 2, 'D': 5},\n",
        "    'C': {'A': 4, 'B': 2, 'D': 1},\n",
        "    'D': {'B': 5, 'C': 1}\n",
        "}\n",
        "print(dijkstra(graph, 'A'))"
      ],
      "metadata": {
        "colab": {
          "base_uri": "https://localhost:8080/"
        },
        "id": "6O9kyJINkyJA",
        "outputId": "1b5e2d99-cac6-4832-8a97-6ec1eecff27e"
      },
      "execution_count": 1,
      "outputs": [
        {
          "output_type": "stream",
          "name": "stdout",
          "text": [
            "{'A': 0, 'B': 1, 'C': 3, 'D': 4}\n"
          ]
        }
      ]
    },
    {
      "cell_type": "markdown",
      "source": [
        "Bellman-Ford Algorithm:\n"
      ],
      "metadata": {
        "id": "TwBCdVeSlBd2"
      }
    },
    {
      "cell_type": "code",
      "source": [
        "def bellman_ford(graph, start):\n",
        "    distances = {vertex: float('infinity') for vertex in graph}\n",
        "    distances[start] = 0\n",
        "\n",
        "    for _ in range(len(graph) - 1):\n",
        "        for vertex in graph:\n",
        "            for neighbor, weight in graph[vertex].items():\n",
        "                if distances[vertex] + weight < distances[neighbor]:\n",
        "                    distances[neighbor] = distances[vertex] + weight\n",
        "\n",
        "    # Check for negative weight cycles\n",
        "    for vertex in graph:\n",
        "        for neighbor, weight in graph[vertex].items():\n",
        "            if distances[vertex] + weight < distances[neighbor]:\n",
        "                raise ValueError(\"Graph contains a negative weight cycle\")\n",
        "\n",
        "    return distances\n",
        "\n",
        "# Example usage:\n",
        "graph = {\n",
        "    'A': {'B': -1, 'C': 4},\n",
        "    'B': {'C': 3, 'D': 2, 'E': 2},\n",
        "    'C': {},\n",
        "    'D': {'B': 1, 'C': 5},\n",
        "    'E': {'D': -3}\n",
        "}\n",
        "print(bellman_ford(graph, 'A'))"
      ],
      "metadata": {
        "colab": {
          "base_uri": "https://localhost:8080/"
        },
        "id": "JYvegQXylCI8",
        "outputId": "ca2e7d09-0d74-45d1-c8d0-01b271194e25"
      },
      "execution_count": 2,
      "outputs": [
        {
          "output_type": "stream",
          "name": "stdout",
          "text": [
            "{'A': 0, 'B': -1, 'C': 2, 'D': -2, 'E': 1}\n"
          ]
        }
      ]
    },
    {
      "cell_type": "markdown",
      "source": [
        "Floyd-Warshall Algorithm:\n"
      ],
      "metadata": {
        "id": "85FQmYVFlH9I"
      }
    },
    {
      "cell_type": "code",
      "source": [
        "def floyd_warshall(graph):\n",
        "    vertices = graph.keys()\n",
        "    distances = {vertex: dict.fromkeys(vertices, float('infinity')) for vertex in vertices}\n",
        "\n",
        "    for vertex in vertices:\n",
        "        distances[vertex][vertex] = 0\n",
        "\n",
        "    for vertex, edges in graph.items():\n",
        "        for neighbor, weight in edges.items():\n",
        "            distances[vertex][neighbor] = weight\n",
        "\n",
        "    for k in vertices:\n",
        "        for i in vertices:\n",
        "            for j in vertices:\n",
        "                distances[i][j] = min(distances[i][j], distances[i][k] + distances[k][j])\n",
        "\n",
        "    return distances\n",
        "\n",
        "# Example usage:\n",
        "graph = {\n",
        "    'A': {'B': 3, 'C': 8, 'D': -4},\n",
        "    'B': {'A': 0, 'C': 1, 'D': 7},\n",
        "    'C': {'A': 4, 'B': 0, 'D': 2},\n",
        "    'D': {'A': 5, 'B': 0, 'C': 6}\n",
        "}\n",
        "print(floyd_warshall(graph))"
      ],
      "metadata": {
        "colab": {
          "base_uri": "https://localhost:8080/"
        },
        "id": "59sNSMgjlKTk",
        "outputId": "158ca746-7ddb-42e1-cedd-96cea7794646"
      },
      "execution_count": 3,
      "outputs": [
        {
          "output_type": "stream",
          "name": "stdout",
          "text": [
            "{'A': {'A': -4, 'B': -4, 'C': -3, 'D': -8}, 'B': {'A': -4, 'B': -4, 'C': -3, 'D': -8}, 'C': {'A': -4, 'B': -4, 'C': -3, 'D': -8}, 'D': {'A': -4, 'B': -4, 'C': -3, 'D': -8}}\n"
          ]
        }
      ]
    }
  ]
}